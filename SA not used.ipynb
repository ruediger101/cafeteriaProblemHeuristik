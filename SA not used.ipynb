{
 "cells": [
  {
   "cell_type": "markdown",
   "metadata": {},
   "source": [
    "# Quelle des Codes\n",
    "> https://machinelearningmastery.com/simulated-annealing-from-scratch-in-python/"
   ]
  },
  {
   "cell_type": "code",
   "execution_count": 1,
   "metadata": {},
   "outputs": [
    {
     "name": "stdout",
     "output_type": "stream",
     "text": [
      ">34 f([-0.78753544]) = 0.62021\n",
      ">35 f([-0.76914239]) = 0.59158\n",
      ">37 f([-0.68574854]) = 0.47025\n",
      ">39 f([-0.64797564]) = 0.41987\n",
      ">40 f([-0.58914623]) = 0.34709\n",
      ">41 f([-0.55446029]) = 0.30743\n",
      ">42 f([-0.41775702]) = 0.17452\n",
      ">43 f([-0.35038542]) = 0.12277\n",
      ">50 f([-0.15799045]) = 0.02496\n",
      ">66 f([-0.11089772]) = 0.01230\n",
      ">67 f([-0.09238208]) = 0.00853\n",
      ">72 f([-0.09145261]) = 0.00836\n",
      ">75 f([-0.05129162]) = 0.00263\n",
      ">93 f([-0.02854417]) = 0.00081\n",
      ">144 f([0.00864136]) = 0.00007\n",
      ">149 f([0.00753953]) = 0.00006\n",
      ">167 f([-0.00640394]) = 0.00004\n",
      ">225 f([-0.00044965]) = 0.00000\n",
      ">503 f([-0.00036261]) = 0.00000\n",
      ">512 f([0.00013605]) = 0.00000\n",
      "Done!\n",
      "f([0.00013605]) = 0.000000\n"
     ]
    }
   ],
   "source": [
    "from numpy import asarray\n",
    "from numpy import exp\n",
    "from numpy.random import randn\n",
    "from numpy.random import rand\n",
    "from numpy.random import seed\n",
    "\n",
    "# objective function\n",
    "def objective(x):\n",
    "\treturn x[0]**2.0\n",
    "\n",
    "# simulated annealing algorithm\n",
    "def simulated_annealing(objective, bounds, n_iterations, step_size, temp):\n",
    "\t# generate an initial point\n",
    "\tbest = bounds[:, 0] + rand(len(bounds)) * (bounds[:, 1] - bounds[:, 0])\n",
    "\t# evaluate the initial point\n",
    "\tbest_eval = objective(best)\n",
    "\t# current working solution\n",
    "\tcurr, curr_eval = best, best_eval\n",
    "\t# run the algorithm\n",
    "\tfor i in range(n_iterations):\n",
    "\t\t# take a step\n",
    "\t\tcandidate = curr + randn(len(bounds)) * step_size\n",
    "\t\t# evaluate candidate point\n",
    "\t\tcandidate_eval = objective(candidate)\n",
    "\t\t# check for new best solution\n",
    "\t\tif candidate_eval < best_eval:\n",
    "\t\t\t# store new best point\n",
    "\t\t\tbest, best_eval = candidate, candidate_eval\n",
    "\t\t\t# report progress\n",
    "\t\t\tprint('>%d f(%s) = %.5f' % (i, best, best_eval))\n",
    "\t\t# difference between candidate and current point evaluation\n",
    "\t\tdiff = candidate_eval - curr_eval\n",
    "\t\t# calculate temperature for current epoch\n",
    "\t\tt = temp / float(i + 1)\n",
    "\t\t# calculate metropolis acceptance criterion\n",
    "\t\tmetropolis = exp(-diff / t)\n",
    "\t\t# check if we should keep the new point\n",
    "\t\tif diff < 0 or rand() < metropolis:\n",
    "\t\t\t# store the new current point\n",
    "\t\t\tcurr, curr_eval = candidate, candidate_eval\n",
    "\treturn [best, best_eval]\n",
    "\n",
    "# seed the pseudorandom number generator\n",
    "seed(1)\n",
    "# define range for input\n",
    "bounds = asarray([[-5.0, 5.0]])\n",
    "# define the total iterations\n",
    "n_iterations = 1000\n",
    "# define the maximum step size\n",
    "step_size = 0.1\n",
    "# initial temperature\n",
    "temp = 10\n",
    "# perform the simulated annealing search\n",
    "best, score = simulated_annealing(objective, bounds, n_iterations, step_size, temp)\n",
    "print('Done!')\n",
    "print('f(%s) = %f' % (best, score))"
   ]
  }
 ],
 "metadata": {
  "kernelspec": {
   "display_name": "Python 3.9.13 ('base')",
   "language": "python",
   "name": "python3"
  },
  "language_info": {
   "codemirror_mode": {
    "name": "ipython",
    "version": 3
   },
   "file_extension": ".py",
   "mimetype": "text/x-python",
   "name": "python",
   "nbconvert_exporter": "python",
   "pygments_lexer": "ipython3",
   "version": "3.9.13"
  },
  "orig_nbformat": 4,
  "vscode": {
   "interpreter": {
    "hash": "a2111cc88deee10a0e4c6edf2b0a6b735e1d661925d7e2de2d6f6497830c2392"
   }
  }
 },
 "nbformat": 4,
 "nbformat_minor": 2
}
